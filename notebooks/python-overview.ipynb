{
 "cells": [
  {
   "cell_type": "markdown",
   "metadata": {},
   "source": [
    "# Python\n",
    "\n",
    "* python  (is a scripting language, not unlike **bash**, but check out **xonsh**)\n",
    "\n",
    "```\n",
    "   % cat hello.py\n",
    "   #! /usr/bin/env python\n",
    "   #\n",
    "   print(\"Hello World\")\n",
    "   \n",
    "   % chmod +x hello.py\n",
    "   % ./hello.py\n",
    "   Hello World\n",
    "```\n",
    "\n",
    "* ipython\n",
    "* jupyter notebook\n",
    "\n",
    "## Concepts covered today\n",
    "\n",
    "* variables, printing\n",
    "* lists (and other data structures: tuples, dictionaries)\n",
    "* control flow\n",
    "* function\n",
    "* class\n",
    "* module\n"
   ]
  }
 ],
 "metadata": {
  "kernelspec": {
   "display_name": "Python 3",
   "language": "python",
   "name": "python3"
  },
  "language_info": {
   "codemirror_mode": {
    "name": "ipython",
    "version": 3
   },
   "file_extension": ".py",
   "mimetype": "text/x-python",
   "name": "python",
   "nbconvert_exporter": "python",
   "pygments_lexer": "ipython3",
   "version": "3.5.2"
  }
 },
 "nbformat": 4,
 "nbformat_minor": 0
}
