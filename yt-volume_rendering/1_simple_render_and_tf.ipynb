{
 "cells": [
  {
   "cell_type": "code",
   "execution_count": null,
   "metadata": {
    "collapsed": false
   },
   "outputs": [],
   "source": [
    "import yt\n",
    "import numpy as np\n",
    "from yt.testing import fake_vr_orientation_test_ds\n",
    "\n",
    "ds = fake_vr_orientation_test_ds()"
   ]
  },
  {
   "cell_type": "code",
   "execution_count": null,
   "metadata": {
    "collapsed": false
   },
   "outputs": [],
   "source": [
    "# now we do volume rendering\n",
    "sc = yt.create_scene(ds, field='density')\n",
    "sc.render()\n",
    "sc.show(sigma_clip=6.0)"
   ]
  },
  {
   "cell_type": "code",
   "execution_count": null,
   "metadata": {
    "collapsed": false
   },
   "outputs": [],
   "source": [
    "# now we do volume rendering\n",
    "sc = yt.create_scene(ds, field='density')\n",
    "# Change transfer function\n",
    "tf = yt.ColorTransferFunction((np.log10(0.1), np.log10(1.)))\n",
    "tf.sample_colormap(np.log10(0.9), 0.01, colormap=\"spectral\")\n",
    "tf.sample_colormap(np.log10(0.8), 0.01, colormap=\"spectral\")\n",
    "tf.sample_colormap(np.log10(0.6), 0.01, colormap=\"spectral\")\n",
    "tf.sample_colormap(np.log10(0.2), 0.01, colormap=\"spectral\")\n",
    "render_source = sc.get_source(0)\n",
    "render_source.transfer_function = tf"
   ]
  },
  {
   "cell_type": "code",
   "execution_count": null,
   "metadata": {
    "collapsed": false
   },
   "outputs": [],
   "source": [
    "sc.render()\n",
    "sc.show(sigma_clip=6.0)"
   ]
  }
 ],
 "metadata": {
  "kernelspec": {
   "display_name": "Python 2",
   "language": "python",
   "name": "python2"
  },
  "language_info": {
   "codemirror_mode": {
    "name": "ipython",
    "version": 2
   },
   "file_extension": ".py",
   "mimetype": "text/x-python",
   "name": "python",
   "nbconvert_exporter": "python",
   "pygments_lexer": "ipython2",
   "version": "2.7.11"
  }
 },
 "nbformat": 4,
 "nbformat_minor": 0
}
